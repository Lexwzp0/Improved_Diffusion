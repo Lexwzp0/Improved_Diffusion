{
 "cells": [
  {
   "cell_type": "code",
   "id": "initial_id",
   "metadata": {
    "collapsed": true,
    "ExecuteTime": {
     "end_time": "2025-03-20T10:14:59.572782Z",
     "start_time": "2025-03-20T10:14:43.104915Z"
    }
   },
   "source": [
    "import torch\n",
    "import torch.nn as nn\n",
    "from data.pyg_dataToGraph import DataToGraph\n",
    "import torch.nn.functional as F\n",
    "from matplotlib import pyplot as plt\n",
    "from src.Unet import ConditionalDiffusionUNet\n",
    "import torch\n",
    "from torch.utils.data import DataLoader, TensorDataset\n",
    "from torch.optim import AdamW\n",
    "from torch.optim.lr_scheduler import CosineAnnealingLR\n",
    "from tqdm import tqdm\n",
    "import numpy as np\n",
    "from src.gaussian_diffusion import GaussianDiffusion"
   ],
   "outputs": [],
   "execution_count": 1
  },
  {
   "metadata": {
    "ExecuteTime": {
     "end_time": "2025-03-20T10:14:59.725894Z",
     "start_time": "2025-03-20T10:14:59.594150Z"
    }
   },
   "cell_type": "code",
   "source": [
    "# TODO 加载数据集\n",
    "dataset = DataToGraph(\n",
    "    raw_data_path='../data/raw',\n",
    "    dataset_name='TFF' + '.mat')  # 格式: [(graph,label),...,(graph,label)]\n",
    "\n",
    "input_dim = dataset[0].x.size(1)\n",
    "num_classes = dataset.num_classes\n",
    "\n",
    "# 提取所有的x和y\n",
    "x0 = []\n",
    "labels = []\n",
    "\n",
    "for data in dataset:\n",
    "    # 提取x (形状为 [num_nodes, input_dim])\n",
    "    # 但是你提到dataset.x的形状是 [24,50]，这可能是一个图的x特征矩阵\n",
    "    x0.append(data.x)\n",
    "    # 提取y（标量标签）\n",
    "    labels.append(data.y)\n",
    "\n",
    "# 将列表转换为张量\n",
    "x0 = torch.stack(x0).unsqueeze(1)  # 形状 [num_samples, 1, 24, 50]\n",
    "\n",
    "labels = torch.stack(labels)  # 形状 [num_samples]\n",
    "\n",
    "print(num_classes)\n",
    "print(\"X0 shape:\", x0.shape)\n",
    "print(\"Labels shape:\", labels.shape)"
   ],
   "id": "60ab3caf8e38354b",
   "outputs": [
    {
     "name": "stdout",
     "output_type": "stream",
     "text": [
      "7\n",
      "X0 shape: torch.Size([2368, 1, 24, 50])\n",
      "Labels shape: torch.Size([2368, 1])\n"
     ]
    },
    {
     "name": "stderr",
     "output_type": "stream",
     "text": [
      "Processing...\n",
      "Done!\n"
     ]
    }
   ],
   "execution_count": 2
  },
  {
   "metadata": {
    "ExecuteTime": {
     "end_time": "2025-03-20T10:15:00.316394Z",
     "start_time": "2025-03-20T10:15:00.258082Z"
    }
   },
   "cell_type": "code",
   "source": [
    "# 将数据传输到GPU\n",
    "device = torch.device(\"cuda\" if torch.cuda.is_available() else \"cpu\")\n",
    "# 初始化模型\n",
    "model = ConditionalDiffusionUNet(\n",
    "    num_classes=num_classes,\n",
    "    time_dim=128,\n",
    "    label_dim=64\n",
    ").to(device)\n",
    "# 准备数据集\n",
    "dataset = TensorDataset(x0, labels)  # x0: [N,24,50], labels: [N]\n",
    "dataloader = DataLoader(dataset,\n",
    "                    batch_size=64,\n",
    "                    shuffle=True,\n",
    "                    pin_memory=True)\n"
   ],
   "id": "fb392cdfa7aadbcd",
   "outputs": [],
   "execution_count": 3
  },
  {
   "metadata": {
    "ExecuteTime": {
     "end_time": "2025-03-20T10:15:00.587496Z",
     "start_time": "2025-03-20T10:15:00.330954Z"
    }
   },
   "cell_type": "code",
   "source": [
    "num_epochs = 1000\n",
    "lr = 3e-4\n",
    "grad_clip = 1.0\n",
    "save_interval = 50  # 每50个epoch保存一次模型\n",
    "\n",
    "# 初始化扩散模型\n",
    "diffusion = GaussianDiffusion(num_steps=64,model = model, )\n",
    "\n",
    "# 初始化优化器和学习率调度器\n",
    "optimizer = AdamW(model.parameters(), lr=lr)\n",
    "scheduler = CosineAnnealingLR(optimizer, T_max=num_epochs)\n",
    "\n",
    "# 将数据转移到GPU\n",
    "x0 = x0.to(device)\n",
    "labels = labels.to(device)\n",
    "\n",
    "best_loss = float('inf')\n",
    "train_losses = []\n",
    "\n",
    "for epoch in range(num_epochs):\n",
    "    model.train()\n",
    "    epoch_loss = 0.0\n",
    "\n",
    "    with tqdm(dataloader, desc=f\"Epoch {epoch + 1}/{num_epochs}\") as pbar:\n",
    "        for batch_idx, (x_batch, label_batch) in enumerate(pbar):\n",
    "            # 数据转移到GPU\n",
    "            x_batch = x_batch.to(device)  # [B, 24, 50]\n",
    "            label_batch = label_batch.to(device)\n",
    "\n",
    "            # 随机采样时间步 (重要!)\n",
    "            B = x_batch.size(0)\n",
    "            t = torch.randint(0, diffusion.num_steps, (B,), device=device).long()\n",
    "\n",
    "            # 前向传播计算损失\n",
    "            losses = diffusion.training_losses(\n",
    "                model=model,\n",
    "                x_start=x_batch,\n",
    "                t=t,\n",
    "                batch_labels=label_batch\n",
    "            )\n",
    "            loss = losses[\"loss\"].mean()\n",
    "\n",
    "            # 反向传播\n",
    "            optimizer.zero_grad()\n",
    "            loss.backward()\n",
    "\n",
    "            # 梯度裁剪\n",
    "            torch.nn.utils.clip_grad_norm_(model.parameters(), grad_clip)\n",
    "\n",
    "            # 参数更新\n",
    "            optimizer.step()\n",
    "\n",
    "            # 记录损失\n",
    "            epoch_loss += loss.item()\n",
    "            pbar.set_postfix({\n",
    "                'Loss': loss.item(),\n",
    "                'MSE': losses['mse'].mean().item(),\n",
    "                'VB': losses['vb'].mean().item()\n",
    "            })\n",
    "\n",
    "    # 计算平均epoch损失\n",
    "    avg_epoch_loss = epoch_loss / len(dataloader)\n",
    "    train_losses.append(avg_epoch_loss)\n",
    "\n",
    "    # 更新学习率\n",
    "    scheduler.step()\n",
    "\n",
    "    # 保存最佳模型\n",
    "    if avg_epoch_loss < best_loss:\n",
    "        best_loss = avg_epoch_loss\n",
    "        torch.save(model.state_dict(), f'best_unet.pth')\n",
    "        print(f\"New best model saved with loss {best_loss:.4f}\")\n",
    "\n",
    "    # 定期保存检查点\n",
    "    if (epoch + 1) % save_interval == 0:\n",
    "        torch.save({\n",
    "            'epoch': epoch,\n",
    "            'model_state': model.state_dict(),\n",
    "            'optimizer_state': optimizer.state_dict(),\n",
    "            'loss': avg_epoch_loss,\n",
    "        }, f'checkpoint_epoch_{epoch + 1}.pth')\n",
    "\n",
    "    # 绘制损失曲线\n",
    "    plt.figure(figsize=(10, 5))\n",
    "    plt.plot(train_losses, label='Training Loss')\n",
    "    plt.xlabel('Epoch')\n",
    "    plt.ylabel('Loss')\n",
    "    plt.title('Training Loss Curve')\n",
    "    plt.legend()\n",
    "    plt.savefig('loss_curve.png')\n",
    "    plt.close()\n",
    "\n",
    "print(\"Training completed!\")\n"
   ],
   "id": "2524bed76e4e9d4a",
   "outputs": [
    {
     "ename": "TypeError",
     "evalue": "GaussianDiffusion.__init__() missing 2 required positional arguments: 'model' and 'classifier'",
     "output_type": "error",
     "traceback": [
      "\u001B[31m---------------------------------------------------------------------------\u001B[39m",
      "\u001B[31mTypeError\u001B[39m                                 Traceback (most recent call last)",
      "\u001B[36mCell\u001B[39m\u001B[36m \u001B[39m\u001B[32mIn[4]\u001B[39m\u001B[32m, line 7\u001B[39m\n\u001B[32m      4\u001B[39m save_interval = \u001B[32m50\u001B[39m  \u001B[38;5;66;03m# 每50个epoch保存一次模型\u001B[39;00m\n\u001B[32m      6\u001B[39m \u001B[38;5;66;03m# 初始化扩散模型\u001B[39;00m\n\u001B[32m----> \u001B[39m\u001B[32m7\u001B[39m diffusion = \u001B[43mGaussianDiffusion\u001B[49m\u001B[43m(\u001B[49m\u001B[43mnum_steps\u001B[49m\u001B[43m=\u001B[49m\u001B[32;43m64\u001B[39;49m\u001B[43m)\u001B[49m\n\u001B[32m      9\u001B[39m \u001B[38;5;66;03m# 初始化优化器和学习率调度器\u001B[39;00m\n\u001B[32m     10\u001B[39m optimizer = AdamW(model.parameters(), lr=lr)\n",
      "\u001B[31mTypeError\u001B[39m: GaussianDiffusion.__init__() missing 2 required positional arguments: 'model' and 'classifier'"
     ]
    }
   ],
   "execution_count": 4
  }
 ],
 "metadata": {
  "kernelspec": {
   "display_name": "Python 3",
   "language": "python",
   "name": "python3"
  },
  "language_info": {
   "codemirror_mode": {
    "name": "ipython",
    "version": 2
   },
   "file_extension": ".py",
   "mimetype": "text/x-python",
   "name": "python",
   "nbconvert_exporter": "python",
   "pygments_lexer": "ipython2",
   "version": "2.7.6"
  }
 },
 "nbformat": 4,
 "nbformat_minor": 5
}
